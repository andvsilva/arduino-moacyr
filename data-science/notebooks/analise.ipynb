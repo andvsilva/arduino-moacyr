{
 "cells": [
  {
   "cell_type": "code",
   "execution_count": 1,
   "metadata": {},
   "outputs": [],
   "source": [
    "import pandas as pd"
   ]
  },
  {
   "cell_type": "code",
   "execution_count": 2,
   "metadata": {},
   "outputs": [],
   "source": [
    "df = pd.read_csv(\"../dataset/datarecensomoacyr.csv\")"
   ]
  },
  {
   "cell_type": "code",
   "execution_count": 4,
   "metadata": {},
   "outputs": [
    {
     "data": {
      "text/plain": [
       "(266, 35)"
      ]
     },
     "execution_count": 4,
     "metadata": {},
     "output_type": "execute_result"
    }
   ],
   "source": [
    "df.shape"
   ]
  },
  {
   "cell_type": "code",
   "execution_count": 5,
   "metadata": {},
   "outputs": [
    {
     "data": {
      "text/plain": [
       "['Carimbo de data/hora',\n",
       " 'Endereço de e-mail',\n",
       " 'Qual seu nome?',\n",
       " 'Qual a sua idade? (quantos anos completos você tem agora.)',\n",
       " 'Qual sua turma? (Selecione apenas a opção que contém sua série e turma)',\n",
       " 'Com qual gênero você se identifica?',\n",
       " 'Qual a sua sexualidade?',\n",
       " 'Qual sua etnia? (selecione com qual cor de pele você se identifica)',\n",
       " 'Você possui alguma religião? Se sim, qual?',\n",
       " 'Em que cidade e estado você nasceu? (Nos diga a cidade de onde você e sua família vieram e a qual estado ela pertence)',\n",
       " 'Em qual bairro você mora?',\n",
       " 'Como você vem a escola diariamente? (qual meio de transporte que traz você de casa até a Moacyr, todos os dias)',\n",
       " 'De qual escola você veio? (como é o nome da ultima escola que você estudou)',\n",
       " 'Quantas refeições você faz por dia?',\n",
       " 'Você se alimenta fora da escola? Quantas vezes?',\n",
       " 'A casa que você mora é:',\n",
       " 'Quantos cômodos tem a casa em que você reside atualmente? (quantos quartos, sala, cozinha, etc.)',\n",
       " 'Quantos banheiros tem a casa em que você reside atualmente?',\n",
       " 'Há quintal ou garagem em sua casa?',\n",
       " 'Há acesso a internet disponível em sua casa?',\n",
       " 'Marque todos os eletrodomésticos que tem em sua casa.',\n",
       " 'Onde você costuma estudar em sua casa?',\n",
       " 'Quantas pessoas moram com você? (Coloque quantas pessoas residem na sua casa, SEM CONTAR COM VOCÊ)',\n",
       " 'Quantos irmãos você tem? (Considere os que moram com você e os que não moram com você.)',\n",
       " 'Quem é (são) seu(s) responsável(is)? ',\n",
       " 'Quantos anos sua mãe tem?',\n",
       " 'Qantos anos seu pai tem?',\n",
       " 'Outros',\n",
       " 'Qual o grau de escolaridade do seu responsável? (o de maior escolaridade)',\n",
       " 'Quantas pessoas na sua casa trabalham?',\n",
       " 'Qual o trabalho de seu responsável?',\n",
       " 'Você recebe algum pagamento? (mesada, trabalho, recompensa, etc.)',\n",
       " 'Você possui alguma doença diagnosticada?',\n",
       " 'Alguém da sua família tem doença diagnosticada? Quem e qual doença?',\n",
       " 'Pontuação']"
      ]
     },
     "execution_count": 5,
     "metadata": {},
     "output_type": "execute_result"
    }
   ],
   "source": [
    "column_names = list(df.columns)\n",
    "column_names"
   ]
  }
 ],
 "metadata": {
  "kernelspec": {
   "display_name": "Python 3",
   "language": "python",
   "name": "python3"
  },
  "language_info": {
   "codemirror_mode": {
    "name": "ipython",
    "version": 3
   },
   "file_extension": ".py",
   "mimetype": "text/x-python",
   "name": "python",
   "nbconvert_exporter": "python",
   "pygments_lexer": "ipython3",
   "version": "3.8.10"
  },
  "orig_nbformat": 4
 },
 "nbformat": 4,
 "nbformat_minor": 2
}
